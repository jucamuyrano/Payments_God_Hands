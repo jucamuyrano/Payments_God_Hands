{
 "cells": [
  {
   "cell_type": "markdown",
   "id": "4af4239f",
   "metadata": {},
   "source": [
    "## Imports"
   ]
  },
  {
   "cell_type": "code",
   "execution_count": 1,
   "id": "a8ec7236",
   "metadata": {},
   "outputs": [
    {
     "name": "stdout",
     "output_type": "stream",
     "text": [
      "Requirement already satisfied: awswrangler in /home/ec2-user/anaconda3/envs/python3/lib/python3.6/site-packages (2.14.0)\n",
      "Requirement already satisfied: xlrd<3.0.0,>=2.0.1 in /home/ec2-user/anaconda3/envs/python3/lib/python3.6/site-packages (from awswrangler) (2.0.1)\n",
      "Requirement already satisfied: requests-aws4auth<2.0.0,>=1.1.1 in /home/ec2-user/anaconda3/envs/python3/lib/python3.6/site-packages (from awswrangler) (1.1.1)\n",
      "Requirement already satisfied: pymysql<1.1.0,>=0.9.0 in /home/ec2-user/anaconda3/envs/python3/lib/python3.6/site-packages (from awswrangler) (1.0.2)\n",
      "Requirement already satisfied: redshift-connector<2.1.0,>=2.0.889 in /home/ec2-user/anaconda3/envs/python3/lib/python3.6/site-packages (from awswrangler) (2.0.904)\n",
      "Requirement already satisfied: boto3<2.0.0,>=1.20.17 in /home/ec2-user/anaconda3/envs/python3/lib/python3.6/site-packages (from awswrangler) (1.20.46)\n",
      "Requirement already satisfied: botocore<2.0.0,>=1.23.17 in /home/ec2-user/anaconda3/envs/python3/lib/python3.6/site-packages (from awswrangler) (1.23.46)\n",
      "Requirement already satisfied: numpy<1.19.0,>=1.18.0 in /home/ec2-user/anaconda3/envs/python3/lib/python3.6/site-packages (from awswrangler) (1.18.5)\n",
      "Requirement already satisfied: jsonpath-ng<2.0.0,>=1.5.3 in /home/ec2-user/anaconda3/envs/python3/lib/python3.6/site-packages (from awswrangler) (1.5.3)\n",
      "Requirement already satisfied: xlwt<2.0.0,>=1.3.0 in /home/ec2-user/anaconda3/envs/python3/lib/python3.6/site-packages (from awswrangler) (1.3.0)\n",
      "Requirement already satisfied: pg8000<1.23.0,>=1.16.0 in /home/ec2-user/anaconda3/envs/python3/lib/python3.6/site-packages (from awswrangler) (1.22.1)\n",
      "Requirement already satisfied: opensearch-py<2.0.0,>=1.0.0 in /home/ec2-user/anaconda3/envs/python3/lib/python3.6/site-packages (from awswrangler) (1.0.0)\n",
      "Requirement already satisfied: pandas<1.2.0,>=1.1.0 in /home/ec2-user/anaconda3/envs/python3/lib/python3.6/site-packages (from awswrangler) (1.1.5)\n",
      "Requirement already satisfied: pyarrow<6.1.0,>=2.0.0 in /home/ec2-user/anaconda3/envs/python3/lib/python3.6/site-packages (from awswrangler) (6.0.1)\n",
      "Requirement already satisfied: progressbar2<4.0.0,>=3.53.3 in /home/ec2-user/anaconda3/envs/python3/lib/python3.6/site-packages (from awswrangler) (3.55.0)\n",
      "Requirement already satisfied: openpyxl<3.1.0,>=3.0.0 in /home/ec2-user/anaconda3/envs/python3/lib/python3.6/site-packages (from awswrangler) (3.0.6)\n",
      "Requirement already satisfied: s3transfer<0.6.0,>=0.5.0 in /home/ec2-user/anaconda3/envs/python3/lib/python3.6/site-packages (from boto3<2.0.0,>=1.20.17->awswrangler) (0.5.0)\n",
      "Requirement already satisfied: jmespath<1.0.0,>=0.7.1 in /home/ec2-user/anaconda3/envs/python3/lib/python3.6/site-packages (from boto3<2.0.0,>=1.20.17->awswrangler) (0.10.0)\n",
      "Requirement already satisfied: python-dateutil<3.0.0,>=2.1 in /home/ec2-user/anaconda3/envs/python3/lib/python3.6/site-packages (from botocore<2.0.0,>=1.23.17->awswrangler) (2.8.1)\n",
      "Requirement already satisfied: urllib3<1.27,>=1.25.4 in /home/ec2-user/anaconda3/envs/python3/lib/python3.6/site-packages (from botocore<2.0.0,>=1.23.17->awswrangler) (1.26.7)\n",
      "Requirement already satisfied: six in /home/ec2-user/anaconda3/envs/python3/lib/python3.6/site-packages (from jsonpath-ng<2.0.0,>=1.5.3->awswrangler) (1.15.0)\n",
      "Requirement already satisfied: decorator in /home/ec2-user/anaconda3/envs/python3/lib/python3.6/site-packages (from jsonpath-ng<2.0.0,>=1.5.3->awswrangler) (4.4.2)\n",
      "Requirement already satisfied: ply in /home/ec2-user/anaconda3/envs/python3/lib/python3.6/site-packages (from jsonpath-ng<2.0.0,>=1.5.3->awswrangler) (3.11)\n",
      "Requirement already satisfied: jdcal in /home/ec2-user/anaconda3/envs/python3/lib/python3.6/site-packages (from openpyxl<3.1.0,>=3.0.0->awswrangler) (1.4.1)\n",
      "Requirement already satisfied: et-xmlfile in /home/ec2-user/anaconda3/envs/python3/lib/python3.6/site-packages (from openpyxl<3.1.0,>=3.0.0->awswrangler) (1.0.1)\n",
      "Requirement already satisfied: certifi in /home/ec2-user/anaconda3/envs/python3/lib/python3.6/site-packages (from opensearch-py<2.0.0,>=1.0.0->awswrangler) (2021.5.30)\n",
      "Requirement already satisfied: pytz>=2017.2 in /home/ec2-user/anaconda3/envs/python3/lib/python3.6/site-packages (from pandas<1.2.0,>=1.1.0->awswrangler) (2021.1)\n",
      "Requirement already satisfied: scramp>=1.4.1 in /home/ec2-user/anaconda3/envs/python3/lib/python3.6/site-packages (from pg8000<1.23.0,>=1.16.0->awswrangler) (1.4.1)\n",
      "Requirement already satisfied: python-utils>=2.3.0 in /home/ec2-user/anaconda3/envs/python3/lib/python3.6/site-packages (from progressbar2<4.0.0,>=3.53.3->awswrangler) (3.1.0)\n",
      "Requirement already satisfied: lxml>=4.6.5 in /home/ec2-user/anaconda3/envs/python3/lib/python3.6/site-packages (from redshift-connector<2.1.0,>=2.0.889->awswrangler) (4.8.0)\n",
      "Requirement already satisfied: requests<2.27.2,>=2.23.0 in /home/ec2-user/anaconda3/envs/python3/lib/python3.6/site-packages (from redshift-connector<2.1.0,>=2.0.889->awswrangler) (2.26.0)\n",
      "Requirement already satisfied: beautifulsoup4<5.0.0,>=4.7.0 in /home/ec2-user/anaconda3/envs/python3/lib/python3.6/site-packages (from redshift-connector<2.1.0,>=2.0.889->awswrangler) (4.9.3)\n",
      "Requirement already satisfied: packaging in /home/ec2-user/anaconda3/envs/python3/lib/python3.6/site-packages (from redshift-connector<2.1.0,>=2.0.889->awswrangler) (21.3)\n",
      "Requirement already satisfied: soupsieve>1.2 in /home/ec2-user/anaconda3/envs/python3/lib/python3.6/site-packages (from beautifulsoup4<5.0.0,>=4.7.0->redshift-connector<2.1.0,>=2.0.889->awswrangler) (2.0.1)\n",
      "Requirement already satisfied: idna<4,>=2.5 in /home/ec2-user/anaconda3/envs/python3/lib/python3.6/site-packages (from requests<2.27.2,>=2.23.0->redshift-connector<2.1.0,>=2.0.889->awswrangler) (3.1)\n",
      "Requirement already satisfied: charset-normalizer~=2.0.0 in /home/ec2-user/anaconda3/envs/python3/lib/python3.6/site-packages (from requests<2.27.2,>=2.23.0->redshift-connector<2.1.0,>=2.0.889->awswrangler) (2.0.9)\n",
      "Requirement already satisfied: asn1crypto>=1.4.0 in /home/ec2-user/anaconda3/envs/python3/lib/python3.6/site-packages (from scramp>=1.4.1->pg8000<1.23.0,>=1.16.0->awswrangler) (1.4.0)\n",
      "Requirement already satisfied: pyparsing!=3.0.5,>=2.0.2 in /home/ec2-user/anaconda3/envs/python3/lib/python3.6/site-packages (from packaging->redshift-connector<2.1.0,>=2.0.889->awswrangler) (2.4.7)\n"
     ]
    }
   ],
   "source": [
    "!pip install awswrangler"
   ]
  },
  {
   "cell_type": "code",
   "execution_count": 2,
   "id": "499c0112",
   "metadata": {},
   "outputs": [],
   "source": [
    "import pandas as pd\n",
    "import numpy as np\n",
    "import os\n",
    "import matplotlib.pyplot as plt\n",
    "import seaborn as sns\n",
    "from datetime import datetime"
   ]
  },
  {
   "cell_type": "markdown",
   "id": "9e677649",
   "metadata": {},
   "source": [
    "## DF Upload"
   ]
  },
  {
   "cell_type": "code",
   "execution_count": 3,
   "id": "89c2f1ab",
   "metadata": {},
   "outputs": [],
   "source": [
    "df = pd.read_csv(r'1st_adyen_rides-success-and-fail.csv')"
   ]
  },
  {
   "cell_type": "markdown",
   "id": "e50fa0d4",
   "metadata": {},
   "source": [
    "## DF Discovery"
   ]
  },
  {
   "cell_type": "code",
   "execution_count": 4,
   "id": "080200ea",
   "metadata": {
    "scrolled": true
   },
   "outputs": [
    {
     "data": {
      "text/plain": [
       "(304053, 22)"
      ]
     },
     "execution_count": 4,
     "metadata": {},
     "output_type": "execute_result"
    }
   ],
   "source": [
    "df.shape"
   ]
  },
  {
   "cell_type": "code",
   "execution_count": 5,
   "id": "96406de4",
   "metadata": {},
   "outputs": [
    {
     "data": {
      "text/plain": [
       "created                   object\n",
       "device_name               object\n",
       "device_os_version         object\n",
       "country                   object\n",
       "city_id                  float64\n",
       "lat                      float64\n",
       "lng                      float64\n",
       "real_destination_lat     float64\n",
       "real_destination_lng     float64\n",
       "user_id                    int64\n",
       "order_id                   int64\n",
       "order_try_id               int64\n",
       "distance                   int64\n",
       "ride_distance              int64\n",
       "price                    float64\n",
       "ride_price               float64\n",
       "price_review_status       object\n",
       "price_review_reason       object\n",
       "is_successful_payment      int64\n",
       "name                      object\n",
       "card_bin                 float64\n",
       "failed_attempts            int64\n",
       "dtype: object"
      ]
     },
     "execution_count": 5,
     "metadata": {},
     "output_type": "execute_result"
    }
   ],
   "source": [
    "df.dtypes"
   ]
  },
  {
   "cell_type": "code",
   "execution_count": 6,
   "id": "18a46e78",
   "metadata": {},
   "outputs": [
    {
     "data": {
      "text/plain": [
       "Index(['created', 'device_name', 'device_os_version', 'country', 'city_id',\n",
       "       'lat', 'lng', 'real_destination_lat', 'real_destination_lng', 'user_id',\n",
       "       'order_id', 'order_try_id', 'distance', 'ride_distance', 'price',\n",
       "       'ride_price', 'price_review_status', 'price_review_reason',\n",
       "       'is_successful_payment', 'name', 'card_bin', 'failed_attempts'],\n",
       "      dtype='object')"
      ]
     },
     "execution_count": 6,
     "metadata": {},
     "output_type": "execute_result"
    }
   ],
   "source": [
    "df.columns"
   ]
  },
  {
   "cell_type": "code",
   "execution_count": 7,
   "id": "597df61c",
   "metadata": {},
   "outputs": [
    {
     "data": {
      "text/html": [
       "<div>\n",
       "<style scoped>\n",
       "    .dataframe tbody tr th:only-of-type {\n",
       "        vertical-align: middle;\n",
       "    }\n",
       "\n",
       "    .dataframe tbody tr th {\n",
       "        vertical-align: top;\n",
       "    }\n",
       "\n",
       "    .dataframe thead th {\n",
       "        text-align: right;\n",
       "    }\n",
       "</style>\n",
       "<table border=\"1\" class=\"dataframe\">\n",
       "  <thead>\n",
       "    <tr style=\"text-align: right;\">\n",
       "      <th></th>\n",
       "      <th>created</th>\n",
       "      <th>device_name</th>\n",
       "      <th>device_os_version</th>\n",
       "      <th>country</th>\n",
       "      <th>city_id</th>\n",
       "      <th>lat</th>\n",
       "      <th>lng</th>\n",
       "      <th>real_destination_lat</th>\n",
       "      <th>real_destination_lng</th>\n",
       "      <th>user_id</th>\n",
       "      <th>...</th>\n",
       "      <th>distance</th>\n",
       "      <th>ride_distance</th>\n",
       "      <th>price</th>\n",
       "      <th>ride_price</th>\n",
       "      <th>price_review_status</th>\n",
       "      <th>price_review_reason</th>\n",
       "      <th>is_successful_payment</th>\n",
       "      <th>name</th>\n",
       "      <th>card_bin</th>\n",
       "      <th>failed_attempts</th>\n",
       "    </tr>\n",
       "  </thead>\n",
       "  <tbody>\n",
       "    <tr>\n",
       "      <th>245402</th>\n",
       "      <td>2017-06-22 15:38:40</td>\n",
       "      <td>samsungSM-G532F</td>\n",
       "      <td>samsung6.0.1</td>\n",
       "      <td>za</td>\n",
       "      <td>54.0</td>\n",
       "      <td>-26.106456</td>\n",
       "      <td>27.879563</td>\n",
       "      <td>-26.063741</td>\n",
       "      <td>27.944005</td>\n",
       "      <td>852494</td>\n",
       "      <td>...</td>\n",
       "      <td>1729</td>\n",
       "      <td>9903</td>\n",
       "      <td>85.0</td>\n",
       "      <td>85.0</td>\n",
       "      <td>ok</td>\n",
       "      <td>NaN</td>\n",
       "      <td>1</td>\n",
       "      <td>**** 9617</td>\n",
       "      <td>445143.0</td>\n",
       "      <td>12</td>\n",
       "    </tr>\n",
       "    <tr>\n",
       "      <th>48426</th>\n",
       "      <td>2016-09-02 00:05:11</td>\n",
       "      <td>SonyD5803</td>\n",
       "      <td>Sony6.0.1</td>\n",
       "      <td>hu</td>\n",
       "      <td>7.0</td>\n",
       "      <td>47.484845</td>\n",
       "      <td>19.076039</td>\n",
       "      <td>47.547758</td>\n",
       "      <td>19.067112</td>\n",
       "      <td>715400</td>\n",
       "      <td>...</td>\n",
       "      <td>1405</td>\n",
       "      <td>9073</td>\n",
       "      <td>3080.0</td>\n",
       "      <td>3080.0</td>\n",
       "      <td>ok</td>\n",
       "      <td>NaN</td>\n",
       "      <td>1</td>\n",
       "      <td>**** 1412</td>\n",
       "      <td>547134.0</td>\n",
       "      <td>0</td>\n",
       "    </tr>\n",
       "    <tr>\n",
       "      <th>21316</th>\n",
       "      <td>2016-08-04 20:49:46</td>\n",
       "      <td>HisenseHS-U961</td>\n",
       "      <td>Hisense4.4.2</td>\n",
       "      <td>za</td>\n",
       "      <td>54.0</td>\n",
       "      <td>-26.181391</td>\n",
       "      <td>28.114360</td>\n",
       "      <td>-26.208411</td>\n",
       "      <td>28.053296</td>\n",
       "      <td>670454</td>\n",
       "      <td>...</td>\n",
       "      <td>1861</td>\n",
       "      <td>15026</td>\n",
       "      <td>135.0</td>\n",
       "      <td>135.0</td>\n",
       "      <td>ok</td>\n",
       "      <td>NaN</td>\n",
       "      <td>0</td>\n",
       "      <td>**** 2358</td>\n",
       "      <td>517989.0</td>\n",
       "      <td>0</td>\n",
       "    </tr>\n",
       "    <tr>\n",
       "      <th>59879</th>\n",
       "      <td>2017-01-16 06:06:28</td>\n",
       "      <td>samsungSM-J100H</td>\n",
       "      <td>samsung4.4.4</td>\n",
       "      <td>za</td>\n",
       "      <td>54.0</td>\n",
       "      <td>-26.083651</td>\n",
       "      <td>28.112027</td>\n",
       "      <td>-26.076298</td>\n",
       "      <td>28.129635</td>\n",
       "      <td>853625</td>\n",
       "      <td>...</td>\n",
       "      <td>2521</td>\n",
       "      <td>3310</td>\n",
       "      <td>0.0</td>\n",
       "      <td>35.0</td>\n",
       "      <td>ok</td>\n",
       "      <td>NaN</td>\n",
       "      <td>0</td>\n",
       "      <td>**** 1468</td>\n",
       "      <td>528497.0</td>\n",
       "      <td>0</td>\n",
       "    </tr>\n",
       "    <tr>\n",
       "      <th>277664</th>\n",
       "      <td>2017-08-05 19:52:43</td>\n",
       "      <td>HUAWEIHUAWEI G7-L03</td>\n",
       "      <td>HUAWEI4.4.4</td>\n",
       "      <td>mx</td>\n",
       "      <td>317.0</td>\n",
       "      <td>19.345241</td>\n",
       "      <td>-99.033157</td>\n",
       "      <td>19.412970</td>\n",
       "      <td>-99.047638</td>\n",
       "      <td>1954681</td>\n",
       "      <td>...</td>\n",
       "      <td>1397</td>\n",
       "      <td>10093</td>\n",
       "      <td>0.0</td>\n",
       "      <td>74.0</td>\n",
       "      <td>ok</td>\n",
       "      <td>NaN</td>\n",
       "      <td>0</td>\n",
       "      <td>**** 7267</td>\n",
       "      <td>493173.0</td>\n",
       "      <td>1</td>\n",
       "    </tr>\n",
       "  </tbody>\n",
       "</table>\n",
       "<p>5 rows × 22 columns</p>\n",
       "</div>"
      ],
      "text/plain": [
       "                    created          device_name device_os_version country  \\\n",
       "245402  2017-06-22 15:38:40      samsungSM-G532F      samsung6.0.1      za   \n",
       "48426   2016-09-02 00:05:11            SonyD5803         Sony6.0.1      hu   \n",
       "21316   2016-08-04 20:49:46       HisenseHS-U961      Hisense4.4.2      za   \n",
       "59879   2017-01-16 06:06:28      samsungSM-J100H      samsung4.4.4      za   \n",
       "277664  2017-08-05 19:52:43  HUAWEIHUAWEI G7-L03       HUAWEI4.4.4      mx   \n",
       "\n",
       "        city_id        lat        lng  real_destination_lat  \\\n",
       "245402     54.0 -26.106456  27.879563            -26.063741   \n",
       "48426       7.0  47.484845  19.076039             47.547758   \n",
       "21316      54.0 -26.181391  28.114360            -26.208411   \n",
       "59879      54.0 -26.083651  28.112027            -26.076298   \n",
       "277664    317.0  19.345241 -99.033157             19.412970   \n",
       "\n",
       "        real_destination_lng  user_id  ...  distance  ride_distance   price  \\\n",
       "245402             27.944005   852494  ...      1729           9903    85.0   \n",
       "48426              19.067112   715400  ...      1405           9073  3080.0   \n",
       "21316              28.053296   670454  ...      1861          15026   135.0   \n",
       "59879              28.129635   853625  ...      2521           3310     0.0   \n",
       "277664            -99.047638  1954681  ...      1397          10093     0.0   \n",
       "\n",
       "        ride_price  price_review_status  price_review_reason  \\\n",
       "245402        85.0           ok                          NaN   \n",
       "48426       3080.0           ok                          NaN   \n",
       "21316        135.0           ok                          NaN   \n",
       "59879         35.0           ok                          NaN   \n",
       "277664        74.0           ok                          NaN   \n",
       "\n",
       "       is_successful_payment       name  card_bin failed_attempts  \n",
       "245402                     1  **** 9617  445143.0              12  \n",
       "48426                      1  **** 1412  547134.0               0  \n",
       "21316                      0  **** 2358  517989.0               0  \n",
       "59879                      0  **** 1468  528497.0               0  \n",
       "277664                     0  **** 7267  493173.0               1  \n",
       "\n",
       "[5 rows x 22 columns]"
      ]
     },
     "execution_count": 7,
     "metadata": {},
     "output_type": "execute_result"
    }
   ],
   "source": [
    "df.sample(5)"
   ]
  },
  {
   "cell_type": "code",
   "execution_count": 8,
   "id": "bfe5f572",
   "metadata": {},
   "outputs": [
    {
     "data": {
      "text/plain": [
       "is_successful_payment\n",
       "1    225020\n",
       "0     79033\n",
       "dtype: int64"
      ]
     },
     "execution_count": 8,
     "metadata": {},
     "output_type": "execute_result"
    }
   ],
   "source": [
    "df.value_counts('is_successful_payment')"
   ]
  },
  {
   "cell_type": "markdown",
   "id": "c874a85c",
   "metadata": {},
   "source": [
    "## Price Analys"
   ]
  },
  {
   "cell_type": "code",
   "execution_count": 9,
   "id": "3419dc3e",
   "metadata": {},
   "outputs": [
    {
     "name": "stdout",
     "output_type": "stream",
     "text": [
      "MIN:   0.0\n",
      "MAX:   64210.0\n",
      "MEAN:  256.3927986079399\n",
      "STD:   936.4444851200253\n"
     ]
    }
   ],
   "source": [
    "print('MIN:  ',df['price'].min())\n",
    "print('MAX:  ',df['price'].max())\n",
    "print('MEAN: ',df['price'].mean())\n",
    "print('STD:  ',df['price'].std())"
   ]
  },
  {
   "cell_type": "code",
   "execution_count": 10,
   "id": "05d15848",
   "metadata": {},
   "outputs": [],
   "source": [
    "df_price = df[['price','ride_price','is_successful_payment']]"
   ]
  },
  {
   "cell_type": "code",
   "execution_count": 11,
   "id": "df49d7af",
   "metadata": {},
   "outputs": [
    {
     "data": {
      "text/plain": [
       "<seaborn.axisgrid.FacetGrid at 0x7fdf42f06f98>"
      ]
     },
     "execution_count": 11,
     "metadata": {},
     "output_type": "execute_result"
    },
    {
     "data": {
      "image/png": "[encoded data removed]",
      "text/plain": [
       "<Figure size 578.675x432 with 1 Axes>"
      ]
     },
     "metadata": {},
     "output_type": "display_data"
    }
   ],
   "source": [
    "sns.set_theme(style=\"white\")\n",
    "\n",
    "sns.relplot(x=\"ride_price\", y=\"price\", hue=\"is_successful_payment\",\n",
    "            sizes=(400, 400), alpha=.5, palette=\"muted\",\n",
    "            height=6, data=df_price)"
   ]
  },
  {
   "cell_type": "code",
   "execution_count": 12,
   "id": "01f23d66",
   "metadata": {},
   "outputs": [
    {
     "name": "stderr",
     "output_type": "stream",
     "text": [
      "/home/ec2-user/anaconda3/envs/python3/lib/python3.6/site-packages/ipykernel/__main__.py:1: SettingWithCopyWarning: \n",
      "A value is trying to be set on a copy of a slice from a DataFrame.\n",
      "Try using .loc[row_indexer,col_indexer] = value instead\n",
      "\n",
      "See the caveats in the documentation: https://pandas.pydata.org/pandas-docs/stable/user_guide/indexing.html#returning-a-view-versus-a-copy\n",
      "  if __name__ == '__main__':\n"
     ]
    }
   ],
   "source": [
    "df_price['flag_price_0'] = df_price.apply(lambda x:1 if x['price'] == 0 else(0),axis=1)"
   ]
  },
  {
   "cell_type": "code",
   "execution_count": 13,
   "id": "5303b60f",
   "metadata": {},
   "outputs": [
    {
     "data": {
      "text/html": [
       "<div>\n",
       "<style scoped>\n",
       "    .dataframe tbody tr th:only-of-type {\n",
       "        vertical-align: middle;\n",
       "    }\n",
       "\n",
       "    .dataframe tbody tr th {\n",
       "        vertical-align: top;\n",
       "    }\n",
       "\n",
       "    .dataframe thead th {\n",
       "        text-align: right;\n",
       "    }\n",
       "</style>\n",
       "<table border=\"1\" class=\"dataframe\">\n",
       "  <thead>\n",
       "    <tr style=\"text-align: right;\">\n",
       "      <th></th>\n",
       "      <th>price</th>\n",
       "      <th>ride_price</th>\n",
       "      <th>is_successful_payment</th>\n",
       "      <th>flag_price_0</th>\n",
       "    </tr>\n",
       "  </thead>\n",
       "  <tbody>\n",
       "    <tr>\n",
       "      <th>159060</th>\n",
       "      <td>0.0</td>\n",
       "      <td>0.0</td>\n",
       "      <td>0</td>\n",
       "      <td>1</td>\n",
       "    </tr>\n",
       "    <tr>\n",
       "      <th>247192</th>\n",
       "      <td>3.4</td>\n",
       "      <td>3.4</td>\n",
       "      <td>1</td>\n",
       "      <td>0</td>\n",
       "    </tr>\n",
       "    <tr>\n",
       "      <th>46244</th>\n",
       "      <td>0.0</td>\n",
       "      <td>190.0</td>\n",
       "      <td>0</td>\n",
       "      <td>1</td>\n",
       "    </tr>\n",
       "    <tr>\n",
       "      <th>289876</th>\n",
       "      <td>170.0</td>\n",
       "      <td>170.0</td>\n",
       "      <td>1</td>\n",
       "      <td>0</td>\n",
       "    </tr>\n",
       "    <tr>\n",
       "      <th>50378</th>\n",
       "      <td>0.0</td>\n",
       "      <td>125.0</td>\n",
       "      <td>0</td>\n",
       "      <td>1</td>\n",
       "    </tr>\n",
       "  </tbody>\n",
       "</table>\n",
       "</div>"
      ],
      "text/plain": [
       "        price  ride_price  is_successful_payment  flag_price_0\n",
       "159060    0.0         0.0                      0             1\n",
       "247192    3.4         3.4                      1             0\n",
       "46244     0.0       190.0                      0             1\n",
       "289876  170.0       170.0                      1             0\n",
       "50378     0.0       125.0                      0             1"
      ]
     },
     "execution_count": 13,
     "metadata": {},
     "output_type": "execute_result"
    }
   ],
   "source": [
    "df_price.sample(5)"
   ]
  },
  {
   "cell_type": "code",
   "execution_count": 14,
   "id": "3846c2b9",
   "metadata": {},
   "outputs": [],
   "source": [
    "df_price=df_price[['flag_price_0','is_successful_payment','price']]"
   ]
  },
  {
   "cell_type": "code",
   "execution_count": 15,
   "id": "7ed19add",
   "metadata": {},
   "outputs": [],
   "source": [
    "table = pd.pivot_table(df_price, values='price', index=['is_successful_payment'],\n",
    "                    columns=['flag_price_0'], aggfunc='count', fill_value=0)"
   ]
  },
  {
   "cell_type": "code",
   "execution_count": 16,
   "id": "be4a2541",
   "metadata": {},
   "outputs": [
    {
     "data": {
      "text/html": [
       "<div>\n",
       "<style scoped>\n",
       "    .dataframe tbody tr th:only-of-type {\n",
       "        vertical-align: middle;\n",
       "    }\n",
       "\n",
       "    .dataframe tbody tr th {\n",
       "        vertical-align: top;\n",
       "    }\n",
       "\n",
       "    .dataframe thead th {\n",
       "        text-align: right;\n",
       "    }\n",
       "</style>\n",
       "<table border=\"1\" class=\"dataframe\">\n",
       "  <thead>\n",
       "    <tr style=\"text-align: right;\">\n",
       "      <th>flag_price_0</th>\n",
       "      <th>0</th>\n",
       "      <th>1</th>\n",
       "    </tr>\n",
       "    <tr>\n",
       "      <th>is_successful_payment</th>\n",
       "      <th></th>\n",
       "      <th></th>\n",
       "    </tr>\n",
       "  </thead>\n",
       "  <tbody>\n",
       "    <tr>\n",
       "      <th>0</th>\n",
       "      <td>17090</td>\n",
       "      <td>61943</td>\n",
       "    </tr>\n",
       "    <tr>\n",
       "      <th>1</th>\n",
       "      <td>225020</td>\n",
       "      <td>0</td>\n",
       "    </tr>\n",
       "  </tbody>\n",
       "</table>\n",
       "</div>"
      ],
      "text/plain": [
       "flag_price_0                0      1\n",
       "is_successful_payment               \n",
       "0                       17090  61943\n",
       "1                      225020      0"
      ]
     },
     "execution_count": 16,
     "metadata": {},
     "output_type": "execute_result"
    }
   ],
   "source": [
    "table.head()"
   ]
  },
  {
   "cell_type": "code",
   "execution_count": 17,
   "id": "7b8de0c0",
   "metadata": {},
   "outputs": [
    {
     "data": {
      "text/plain": [
       "<AxesSubplot:title={'center':'Price 0'}, xlabel='is_successful_payment', ylabel='Price Segment'>"
      ]
     },
     "execution_count": 17,
     "metadata": {},
     "output_type": "execute_result"
    },
    {
     "data": {
      "image/png": "[encoded data removed]",
      "text/plain": [
       "<Figure size 576x432 with 1 Axes>"
      ]
     },
     "metadata": {},
     "output_type": "display_data"
    }
   ],
   "source": [
    "table.plot(kind='bar',\n",
    "        title = 'Price 0',\n",
    "        ylabel = 'Price Segment',\n",
    "        figsize = (8,6),\n",
    "        grid = True,\n",
    "        stacked = True)"
   ]
  },
  {
   "cell_type": "markdown",
   "id": "fe1cb4e4",
   "metadata": {},
   "source": [
    "We can see that all the transactions with flag_price_0 == 1 (orange) are non successful payment transactions.\n",
    "If we block all transactions with price = 0 we are just blocking non successful payment transactions causing no friction at all on the healthy ones"
   ]
  },
  {
   "cell_type": "markdown",
   "id": "7e6470f8",
   "metadata": {},
   "source": [
    "This rule will have a recall of 78.4% with a precision of 100% and a friction of 0%"
   ]
  },
  {
   "cell_type": "markdown",
   "id": "5e564e60",
   "metadata": {},
   "source": [
    "## Filter TRXs with price = 0"
   ]
  },
  {
   "cell_type": "markdown",
   "id": "a8ded784",
   "metadata": {},
   "source": [
    "From now on we take out of consideration TRXs with price == 0 because dose TRXs will be blocked by the previous rule "
   ]
  },
  {
   "cell_type": "code",
   "execution_count": 18,
   "id": "eb5501ac",
   "metadata": {},
   "outputs": [],
   "source": [
    "df_1 = df[df['price']!=0]"
   ]
  },
  {
   "cell_type": "code",
   "execution_count": 19,
   "id": "94bad39e",
   "metadata": {},
   "outputs": [
    {
     "data": {
      "text/html": [
       "<div>\n",
       "<style scoped>\n",
       "    .dataframe tbody tr th:only-of-type {\n",
       "        vertical-align: middle;\n",
       "    }\n",
       "\n",
       "    .dataframe tbody tr th {\n",
       "        vertical-align: top;\n",
       "    }\n",
       "\n",
       "    .dataframe thead th {\n",
       "        text-align: right;\n",
       "    }\n",
       "</style>\n",
       "<table border=\"1\" class=\"dataframe\">\n",
       "  <thead>\n",
       "    <tr style=\"text-align: right;\">\n",
       "      <th></th>\n",
       "      <th>created</th>\n",
       "      <th>device_name</th>\n",
       "      <th>device_os_version</th>\n",
       "      <th>country</th>\n",
       "      <th>city_id</th>\n",
       "      <th>lat</th>\n",
       "      <th>lng</th>\n",
       "      <th>real_destination_lat</th>\n",
       "      <th>real_destination_lng</th>\n",
       "      <th>user_id</th>\n",
       "      <th>...</th>\n",
       "      <th>distance</th>\n",
       "      <th>ride_distance</th>\n",
       "      <th>price</th>\n",
       "      <th>ride_price</th>\n",
       "      <th>price_review_status</th>\n",
       "      <th>price_review_reason</th>\n",
       "      <th>is_successful_payment</th>\n",
       "      <th>name</th>\n",
       "      <th>card_bin</th>\n",
       "      <th>failed_attempts</th>\n",
       "    </tr>\n",
       "  </thead>\n",
       "  <tbody>\n",
       "    <tr>\n",
       "      <th>269895</th>\n",
       "      <td>2017-02-25 07:04:30</td>\n",
       "      <td>samsungSM-N9005</td>\n",
       "      <td>samsung5.0</td>\n",
       "      <td>za</td>\n",
       "      <td>242.0</td>\n",
       "      <td>-29.845835</td>\n",
       "      <td>31.034272</td>\n",
       "      <td>-29.860585</td>\n",
       "      <td>31.025269</td>\n",
       "      <td>1074692</td>\n",
       "      <td>...</td>\n",
       "      <td>2164</td>\n",
       "      <td>2981</td>\n",
       "      <td>30.0000</td>\n",
       "      <td>30.0000</td>\n",
       "      <td>ok</td>\n",
       "      <td>NaN</td>\n",
       "      <td>1</td>\n",
       "      <td>**** 8929</td>\n",
       "      <td>479012.0</td>\n",
       "      <td>1</td>\n",
       "    </tr>\n",
       "    <tr>\n",
       "      <th>224653</th>\n",
       "      <td>2017-07-16 15:21:46</td>\n",
       "      <td>XiaomiRedmi 3</td>\n",
       "      <td>Xiaomi5.1.1</td>\n",
       "      <td>lt</td>\n",
       "      <td>13.0</td>\n",
       "      <td>54.856707</td>\n",
       "      <td>23.942354</td>\n",
       "      <td>54.896090</td>\n",
       "      <td>23.932974</td>\n",
       "      <td>809942</td>\n",
       "      <td>...</td>\n",
       "      <td>3842</td>\n",
       "      <td>7559</td>\n",
       "      <td>4.2999</td>\n",
       "      <td>4.2999</td>\n",
       "      <td>ok</td>\n",
       "      <td>NaN</td>\n",
       "      <td>1</td>\n",
       "      <td>**** 9620</td>\n",
       "      <td>516889.0</td>\n",
       "      <td>0</td>\n",
       "    </tr>\n",
       "    <tr>\n",
       "      <th>45918</th>\n",
       "      <td>2016-07-22 20:10:27</td>\n",
       "      <td>OnePlusONEPLUS A3010</td>\n",
       "      <td>OnePlus7.1.1</td>\n",
       "      <td>lv</td>\n",
       "      <td>3.0</td>\n",
       "      <td>56.950051</td>\n",
       "      <td>24.111160</td>\n",
       "      <td>56.983687</td>\n",
       "      <td>24.197512</td>\n",
       "      <td>633538</td>\n",
       "      <td>...</td>\n",
       "      <td>559</td>\n",
       "      <td>8320</td>\n",
       "      <td>5.9000</td>\n",
       "      <td>5.9000</td>\n",
       "      <td>ok</td>\n",
       "      <td>NaN</td>\n",
       "      <td>1</td>\n",
       "      <td>**** 9131</td>\n",
       "      <td>557367.0</td>\n",
       "      <td>1</td>\n",
       "    </tr>\n",
       "  </tbody>\n",
       "</table>\n",
       "<p>3 rows × 22 columns</p>\n",
       "</div>"
      ],
      "text/plain": [
       "                    created           device_name device_os_version country  \\\n",
       "269895  2017-02-25 07:04:30       samsungSM-N9005        samsung5.0      za   \n",
       "224653  2017-07-16 15:21:46         XiaomiRedmi 3       Xiaomi5.1.1      lt   \n",
       "45918   2016-07-22 20:10:27  OnePlusONEPLUS A3010      OnePlus7.1.1      lv   \n",
       "\n",
       "        city_id        lat        lng  real_destination_lat  \\\n",
       "269895    242.0 -29.845835  31.034272            -29.860585   \n",
       "224653     13.0  54.856707  23.942354             54.896090   \n",
       "45918       3.0  56.950051  24.111160             56.983687   \n",
       "\n",
       "        real_destination_lng  user_id  ...  distance  ride_distance    price  \\\n",
       "269895             31.025269  1074692  ...      2164           2981  30.0000   \n",
       "224653             23.932974   809942  ...      3842           7559   4.2999   \n",
       "45918              24.197512   633538  ...       559           8320   5.9000   \n",
       "\n",
       "        ride_price  price_review_status  price_review_reason  \\\n",
       "269895     30.0000           ok                          NaN   \n",
       "224653      4.2999           ok                          NaN   \n",
       "45918       5.9000           ok                          NaN   \n",
       "\n",
       "       is_successful_payment       name  card_bin failed_attempts  \n",
       "269895                     1  **** 8929  479012.0               1  \n",
       "224653                     1  **** 9620  516889.0               0  \n",
       "45918                      1  **** 9131  557367.0               1  \n",
       "\n",
       "[3 rows x 22 columns]"
      ]
     },
     "execution_count": 19,
     "metadata": {},
     "output_type": "execute_result"
    }
   ],
   "source": [
    "df_1.sample(3)"
   ]
  },
  {
   "cell_type": "markdown",
   "id": "848ae7fc",
   "metadata": {},
   "source": [
    "## Attempts Analys"
   ]
  },
  {
   "cell_type": "code",
   "execution_count": 20,
   "id": "fb57ae7c",
   "metadata": {},
   "outputs": [],
   "source": [
    "df_att = df_1[['order_id','failed_attempts','is_successful_payment']]"
   ]
  },
  {
   "cell_type": "code",
   "execution_count": 21,
   "id": "f04e9159",
   "metadata": {},
   "outputs": [
    {
     "data": {
      "text/html": [
       "<div>\n",
       "<style scoped>\n",
       "    .dataframe tbody tr th:only-of-type {\n",
       "        vertical-align: middle;\n",
       "    }\n",
       "\n",
       "    .dataframe tbody tr th {\n",
       "        vertical-align: top;\n",
       "    }\n",
       "\n",
       "    .dataframe thead th {\n",
       "        text-align: right;\n",
       "    }\n",
       "</style>\n",
       "<table border=\"1\" class=\"dataframe\">\n",
       "  <thead>\n",
       "    <tr style=\"text-align: right;\">\n",
       "      <th></th>\n",
       "      <th>order_id</th>\n",
       "      <th>failed_attempts</th>\n",
       "      <th>is_successful_payment</th>\n",
       "    </tr>\n",
       "  </thead>\n",
       "  <tbody>\n",
       "    <tr>\n",
       "      <th>237452</th>\n",
       "      <td>18894833</td>\n",
       "      <td>0</td>\n",
       "      <td>1</td>\n",
       "    </tr>\n",
       "    <tr>\n",
       "      <th>14585</th>\n",
       "      <td>20820434</td>\n",
       "      <td>0</td>\n",
       "      <td>1</td>\n",
       "    </tr>\n",
       "    <tr>\n",
       "      <th>204529</th>\n",
       "      <td>12536102</td>\n",
       "      <td>0</td>\n",
       "      <td>1</td>\n",
       "    </tr>\n",
       "    <tr>\n",
       "      <th>23951</th>\n",
       "      <td>12334322</td>\n",
       "      <td>0</td>\n",
       "      <td>1</td>\n",
       "    </tr>\n",
       "    <tr>\n",
       "      <th>241825</th>\n",
       "      <td>5427095</td>\n",
       "      <td>0</td>\n",
       "      <td>1</td>\n",
       "    </tr>\n",
       "  </tbody>\n",
       "</table>\n",
       "</div>"
      ],
      "text/plain": [
       "        order_id  failed_attempts  is_successful_payment\n",
       "237452  18894833                0                      1\n",
       "14585   20820434                0                      1\n",
       "204529  12536102                0                      1\n",
       "23951   12334322                0                      1\n",
       "241825   5427095                0                      1"
      ]
     },
     "execution_count": 21,
     "metadata": {},
     "output_type": "execute_result"
    }
   ],
   "source": [
    "df_att.sample(5)"
   ]
  },
  {
   "cell_type": "code",
   "execution_count": 22,
   "id": "4f5934a6",
   "metadata": {},
   "outputs": [],
   "source": [
    "table = pd.pivot_table(df_att, values='order_id', index=['failed_attempts'],\n",
    "                    columns=['is_successful_payment'], aggfunc='count', fill_value=0)"
   ]
  },
  {
   "cell_type": "code",
   "execution_count": 23,
   "id": "7507f4b3",
   "metadata": {},
   "outputs": [
    {
     "data": {
      "text/html": [
       "<div>\n",
       "<style scoped>\n",
       "    .dataframe tbody tr th:only-of-type {\n",
       "        vertical-align: middle;\n",
       "    }\n",
       "\n",
       "    .dataframe tbody tr th {\n",
       "        vertical-align: top;\n",
       "    }\n",
       "\n",
       "    .dataframe thead th {\n",
       "        text-align: right;\n",
       "    }\n",
       "</style>\n",
       "<table border=\"1\" class=\"dataframe\">\n",
       "  <thead>\n",
       "    <tr style=\"text-align: right;\">\n",
       "      <th>is_successful_payment</th>\n",
       "      <th>0</th>\n",
       "      <th>1</th>\n",
       "    </tr>\n",
       "    <tr>\n",
       "      <th>failed_attempts</th>\n",
       "      <th></th>\n",
       "      <th></th>\n",
       "    </tr>\n",
       "  </thead>\n",
       "  <tbody>\n",
       "    <tr>\n",
       "      <th>0</th>\n",
       "      <td>11303</td>\n",
       "      <td>181174</td>\n",
       "    </tr>\n",
       "    <tr>\n",
       "      <th>1</th>\n",
       "      <td>2943</td>\n",
       "      <td>29788</td>\n",
       "    </tr>\n",
       "    <tr>\n",
       "      <th>2</th>\n",
       "      <td>1156</td>\n",
       "      <td>8103</td>\n",
       "    </tr>\n",
       "  </tbody>\n",
       "</table>\n",
       "</div>"
      ],
      "text/plain": [
       "is_successful_payment      0       1\n",
       "failed_attempts                     \n",
       "0                      11303  181174\n",
       "1                       2943   29788\n",
       "2                       1156    8103"
      ]
     },
     "execution_count": 23,
     "metadata": {},
     "output_type": "execute_result"
    }
   ],
   "source": [
    "table.head(3)"
   ]
  },
  {
   "cell_type": "code",
   "execution_count": 24,
   "id": "45c9baf0",
   "metadata": {},
   "outputs": [
    {
     "data": {
      "text/plain": [
       "<AxesSubplot:title={'center':'Failed Attempts'}, xlabel='failed_attempts', ylabel='TRX'>"
      ]
     },
     "execution_count": 24,
     "metadata": {},
     "output_type": "execute_result"
    },
    {
     "data": {
      "image/png": "[encoded data removed]",
      "text/plain": [
       "<Figure size 1296x576 with 1 Axes>"
      ]
     },
     "metadata": {},
     "output_type": "display_data"
    }
   ],
   "source": [
    "table.plot(kind='bar',\n",
    "        title = 'Failed Attempts',\n",
    "        ylabel = 'TRX',\n",
    "        figsize = (18,8),\n",
    "        grid = True,\n",
    "        stacked = True)"
   ]
  },
  {
   "cell_type": "code",
   "execution_count": 25,
   "id": "30032b7f",
   "metadata": {},
   "outputs": [],
   "source": [
    "gb1=df_att.groupby(['failed_attempts','is_successful_payment']).count()\n",
    "gb1=gb1.reset_index()\n",
    "\n",
    "gb2=gb1[['failed_attempts','order_id']].groupby(['failed_attempts']).sum()\n",
    "gb2=gb2.reset_index()\n",
    "gb2['TOTAL']=gb2['order_id']\n",
    "gb2=gb2[['failed_attempts','TOTAL']]\n",
    "\n",
    "gb3 = pd.merge(left = gb1, right = gb2,\n",
    "                how = 'inner',\n",
    "                left_on='failed_attempts', right_on='failed_attempts')\n",
    "\n",
    "gb3['share']=(gb3['order_id']/gb3['TOTAL'])*100\n",
    "gb3['share']=gb3['share'].round(decimals=1)\n",
    "\n",
    "gb3 = gb3[gb3['is_successful_payment']==0]"
   ]
  },
  {
   "cell_type": "code",
   "execution_count": 26,
   "id": "f61406f9",
   "metadata": {},
   "outputs": [
    {
     "data": {
      "text/html": [
       "<div>\n",
       "<style scoped>\n",
       "    .dataframe tbody tr th:only-of-type {\n",
       "        vertical-align: middle;\n",
       "    }\n",
       "\n",
       "    .dataframe tbody tr th {\n",
       "        vertical-align: top;\n",
       "    }\n",
       "\n",
       "    .dataframe thead th {\n",
       "        text-align: right;\n",
       "    }\n",
       "</style>\n",
       "<table border=\"1\" class=\"dataframe\">\n",
       "  <thead>\n",
       "    <tr style=\"text-align: right;\">\n",
       "      <th></th>\n",
       "      <th>failed_attempts</th>\n",
       "      <th>is_successful_payment</th>\n",
       "      <th>order_id</th>\n",
       "      <th>TOTAL</th>\n",
       "      <th>share</th>\n",
       "    </tr>\n",
       "  </thead>\n",
       "  <tbody>\n",
       "    <tr>\n",
       "      <th>0</th>\n",
       "      <td>0</td>\n",
       "      <td>0</td>\n",
       "      <td>11303</td>\n",
       "      <td>192477</td>\n",
       "      <td>5.9</td>\n",
       "    </tr>\n",
       "    <tr>\n",
       "      <th>2</th>\n",
       "      <td>1</td>\n",
       "      <td>0</td>\n",
       "      <td>2943</td>\n",
       "      <td>32731</td>\n",
       "      <td>9.0</td>\n",
       "    </tr>\n",
       "    <tr>\n",
       "      <th>4</th>\n",
       "      <td>2</td>\n",
       "      <td>0</td>\n",
       "      <td>1156</td>\n",
       "      <td>9259</td>\n",
       "      <td>12.5</td>\n",
       "    </tr>\n",
       "    <tr>\n",
       "      <th>6</th>\n",
       "      <td>3</td>\n",
       "      <td>0</td>\n",
       "      <td>590</td>\n",
       "      <td>3547</td>\n",
       "      <td>16.6</td>\n",
       "    </tr>\n",
       "    <tr>\n",
       "      <th>8</th>\n",
       "      <td>4</td>\n",
       "      <td>0</td>\n",
       "      <td>374</td>\n",
       "      <td>1687</td>\n",
       "      <td>22.2</td>\n",
       "    </tr>\n",
       "    <tr>\n",
       "      <th>10</th>\n",
       "      <td>5</td>\n",
       "      <td>0</td>\n",
       "      <td>216</td>\n",
       "      <td>866</td>\n",
       "      <td>24.9</td>\n",
       "    </tr>\n",
       "    <tr>\n",
       "      <th>12</th>\n",
       "      <td>6</td>\n",
       "      <td>0</td>\n",
       "      <td>140</td>\n",
       "      <td>549</td>\n",
       "      <td>25.5</td>\n",
       "    </tr>\n",
       "    <tr>\n",
       "      <th>14</th>\n",
       "      <td>7</td>\n",
       "      <td>0</td>\n",
       "      <td>103</td>\n",
       "      <td>311</td>\n",
       "      <td>33.1</td>\n",
       "    </tr>\n",
       "    <tr>\n",
       "      <th>16</th>\n",
       "      <td>8</td>\n",
       "      <td>0</td>\n",
       "      <td>66</td>\n",
       "      <td>202</td>\n",
       "      <td>32.7</td>\n",
       "    </tr>\n",
       "    <tr>\n",
       "      <th>18</th>\n",
       "      <td>9</td>\n",
       "      <td>0</td>\n",
       "      <td>45</td>\n",
       "      <td>122</td>\n",
       "      <td>36.9</td>\n",
       "    </tr>\n",
       "    <tr>\n",
       "      <th>20</th>\n",
       "      <td>10</td>\n",
       "      <td>0</td>\n",
       "      <td>35</td>\n",
       "      <td>87</td>\n",
       "      <td>40.2</td>\n",
       "    </tr>\n",
       "    <tr>\n",
       "      <th>22</th>\n",
       "      <td>11</td>\n",
       "      <td>0</td>\n",
       "      <td>34</td>\n",
       "      <td>91</td>\n",
       "      <td>37.4</td>\n",
       "    </tr>\n",
       "    <tr>\n",
       "      <th>24</th>\n",
       "      <td>12</td>\n",
       "      <td>0</td>\n",
       "      <td>14</td>\n",
       "      <td>35</td>\n",
       "      <td>40.0</td>\n",
       "    </tr>\n",
       "    <tr>\n",
       "      <th>26</th>\n",
       "      <td>13</td>\n",
       "      <td>0</td>\n",
       "      <td>10</td>\n",
       "      <td>26</td>\n",
       "      <td>38.5</td>\n",
       "    </tr>\n",
       "    <tr>\n",
       "      <th>28</th>\n",
       "      <td>14</td>\n",
       "      <td>0</td>\n",
       "      <td>14</td>\n",
       "      <td>30</td>\n",
       "      <td>46.7</td>\n",
       "    </tr>\n",
       "  </tbody>\n",
       "</table>\n",
       "</div>"
      ],
      "text/plain": [
       "    failed_attempts  is_successful_payment  order_id   TOTAL  share\n",
       "0                 0                      0     11303  192477    5.9\n",
       "2                 1                      0      2943   32731    9.0\n",
       "4                 2                      0      1156    9259   12.5\n",
       "6                 3                      0       590    3547   16.6\n",
       "8                 4                      0       374    1687   22.2\n",
       "10                5                      0       216     866   24.9\n",
       "12                6                      0       140     549   25.5\n",
       "14                7                      0       103     311   33.1\n",
       "16                8                      0        66     202   32.7\n",
       "18                9                      0        45     122   36.9\n",
       "20               10                      0        35      87   40.2\n",
       "22               11                      0        34      91   37.4\n",
       "24               12                      0        14      35   40.0\n",
       "26               13                      0        10      26   38.5\n",
       "28               14                      0        14      30   46.7"
      ]
     },
     "execution_count": 26,
     "metadata": {},
     "output_type": "execute_result"
    }
   ],
   "source": [
    "gb3.sort_values('failed_attempts',ascending=True).head(15)"
   ]
  },
  {
   "cell_type": "code",
   "execution_count": 27,
   "id": "f9f18396",
   "metadata": {},
   "outputs": [
    {
     "name": "stderr",
     "output_type": "stream",
     "text": [
      "/home/ec2-user/anaconda3/envs/python3/lib/python3.6/site-packages/ipykernel/__main__.py:15: SettingWithCopyWarning: \n",
      "A value is trying to be set on a copy of a slice from a DataFrame.\n",
      "Try using .loc[row_indexer,col_indexer] = value instead\n",
      "\n",
      "See the caveats in the documentation: https://pandas.pydata.org/pandas-docs/stable/user_guide/indexing.html#returning-a-view-versus-a-copy\n"
     ]
    }
   ],
   "source": [
    "def group_failed_attempts():\n",
    "    \n",
    "    values_list = [0, 2, 4, 6, 10, 20, 999999]\n",
    "\n",
    "    conditions_att = []\n",
    "\n",
    "    for i in values_list:\n",
    "        if i == 0:\n",
    "            condicion = ((df_att['failed_attempts'].fillna(0)) == 0)\n",
    "            conditions_att.append(condicion)\n",
    "        else:\n",
    "            condicion = ((df_att['failed_attempts'].fillna(0)) <= i)\n",
    "            conditions_att.append(condicion)\n",
    "\n",
    "    df_att['failed_attempts_range'] = np.select(conditions_att, values_list)\n",
    "    \n",
    "group_failed_attempts()"
   ]
  },
  {
   "cell_type": "code",
   "execution_count": 28,
   "id": "66a33814",
   "metadata": {},
   "outputs": [
    {
     "data": {
      "text/html": [
       "<div>\n",
       "<style scoped>\n",
       "    .dataframe tbody tr th:only-of-type {\n",
       "        vertical-align: middle;\n",
       "    }\n",
       "\n",
       "    .dataframe tbody tr th {\n",
       "        vertical-align: top;\n",
       "    }\n",
       "\n",
       "    .dataframe thead th {\n",
       "        text-align: right;\n",
       "    }\n",
       "</style>\n",
       "<table border=\"1\" class=\"dataframe\">\n",
       "  <thead>\n",
       "    <tr style=\"text-align: right;\">\n",
       "      <th></th>\n",
       "      <th>order_id</th>\n",
       "      <th>failed_attempts</th>\n",
       "      <th>is_successful_payment</th>\n",
       "      <th>failed_attempts_range</th>\n",
       "    </tr>\n",
       "  </thead>\n",
       "  <tbody>\n",
       "    <tr>\n",
       "      <th>162912</th>\n",
       "      <td>21428659</td>\n",
       "      <td>0</td>\n",
       "      <td>1</td>\n",
       "      <td>0</td>\n",
       "    </tr>\n",
       "    <tr>\n",
       "      <th>136329</th>\n",
       "      <td>16347170</td>\n",
       "      <td>0</td>\n",
       "      <td>1</td>\n",
       "      <td>0</td>\n",
       "    </tr>\n",
       "    <tr>\n",
       "      <th>141156</th>\n",
       "      <td>23111519</td>\n",
       "      <td>0</td>\n",
       "      <td>0</td>\n",
       "      <td>0</td>\n",
       "    </tr>\n",
       "  </tbody>\n",
       "</table>\n",
       "</div>"
      ],
      "text/plain": [
       "        order_id  failed_attempts  is_successful_payment  \\\n",
       "162912  21428659                0                      1   \n",
       "136329  16347170                0                      1   \n",
       "141156  23111519                0                      0   \n",
       "\n",
       "        failed_attempts_range  \n",
       "162912                      0  \n",
       "136329                      0  \n",
       "141156                      0  "
      ]
     },
     "execution_count": 28,
     "metadata": {},
     "output_type": "execute_result"
    }
   ],
   "source": [
    "df_att.sample(3)"
   ]
  },
  {
   "cell_type": "code",
   "execution_count": 29,
   "id": "66b00193",
   "metadata": {},
   "outputs": [
    {
     "name": "stderr",
     "output_type": "stream",
     "text": [
      "/home/ec2-user/anaconda3/envs/python3/lib/python3.6/site-packages/pandas/core/frame.py:4174: SettingWithCopyWarning: \n",
      "A value is trying to be set on a copy of a slice from a DataFrame\n",
      "\n",
      "See the caveats in the documentation: https://pandas.pydata.org/pandas-docs/stable/user_guide/indexing.html#returning-a-view-versus-a-copy\n",
      "  errors=errors,\n"
     ]
    }
   ],
   "source": [
    "df_att.drop(columns=['failed_attempts'], inplace=True)"
   ]
  },
  {
   "cell_type": "code",
   "execution_count": 30,
   "id": "fd820190",
   "metadata": {},
   "outputs": [],
   "source": [
    "table = pd.pivot_table(df_att, values='order_id', index=['failed_attempts_range'],\n",
    "                    columns=['is_successful_payment'], aggfunc='count', fill_value=0)"
   ]
  },
  {
   "cell_type": "code",
   "execution_count": 31,
   "id": "7460c393",
   "metadata": {},
   "outputs": [
    {
     "data": {
      "text/plain": [
       "<AxesSubplot:title={'center':'Failed Attempts'}, xlabel='failed_attempts_range', ylabel='TRX'>"
      ]
     },
     "execution_count": 31,
     "metadata": {},
     "output_type": "execute_result"
    },
    {
     "data": {
      "image/png": "[encoded data removed]",
      "text/plain": [
       "<Figure size 1296x648 with 1 Axes>"
      ]
     },
     "metadata": {},
     "output_type": "display_data"
    }
   ],
   "source": [
    "table.plot(kind='bar',\n",
    "        title = 'Failed Attempts',\n",
    "        ylabel = 'TRX',\n",
    "        figsize = (18,9),\n",
    "        grid = True,\n",
    "        stacked = True)"
   ]
  },
  {
   "cell_type": "code",
   "execution_count": 32,
   "id": "9c9c6a98",
   "metadata": {},
   "outputs": [],
   "source": [
    "gb1=df_att.groupby(['failed_attempts_range','is_successful_payment']).count()\n",
    "gb1=gb1.reset_index()\n",
    "\n",
    "gb2=gb1[['failed_attempts_range','order_id']].groupby(['failed_attempts_range']).sum()\n",
    "gb2=gb2.reset_index()\n",
    "gb2['TOTAL']=gb2['order_id']\n",
    "gb2=gb2[['failed_attempts_range','TOTAL']]\n",
    "\n",
    "gb3 = pd.merge(left = gb1, right = gb2,\n",
    "                how = 'inner',\n",
    "                left_on='failed_attempts_range', right_on='failed_attempts_range')\n",
    "\n",
    "gb3['share']=(gb3['order_id']/gb3['TOTAL'])*100\n",
    "gb3['share']=gb3['share'].round(decimals=1)\n",
    "\n",
    "gb3 = gb3[gb3['is_successful_payment']==0]"
   ]
  },
  {
   "cell_type": "code",
   "execution_count": 33,
   "id": "c49e9801",
   "metadata": {},
   "outputs": [
    {
     "data": {
      "text/html": [
       "<div>\n",
       "<style scoped>\n",
       "    .dataframe tbody tr th:only-of-type {\n",
       "        vertical-align: middle;\n",
       "    }\n",
       "\n",
       "    .dataframe tbody tr th {\n",
       "        vertical-align: top;\n",
       "    }\n",
       "\n",
       "    .dataframe thead th {\n",
       "        text-align: right;\n",
       "    }\n",
       "</style>\n",
       "<table border=\"1\" class=\"dataframe\">\n",
       "  <thead>\n",
       "    <tr style=\"text-align: right;\">\n",
       "      <th></th>\n",
       "      <th>failed_attempts_range</th>\n",
       "      <th>is_successful_payment</th>\n",
       "      <th>order_id</th>\n",
       "      <th>TOTAL</th>\n",
       "      <th>share</th>\n",
       "    </tr>\n",
       "  </thead>\n",
       "  <tbody>\n",
       "    <tr>\n",
       "      <th>0</th>\n",
       "      <td>0</td>\n",
       "      <td>0</td>\n",
       "      <td>11303</td>\n",
       "      <td>192477</td>\n",
       "      <td>5.9</td>\n",
       "    </tr>\n",
       "    <tr>\n",
       "      <th>2</th>\n",
       "      <td>2</td>\n",
       "      <td>0</td>\n",
       "      <td>4099</td>\n",
       "      <td>41990</td>\n",
       "      <td>9.8</td>\n",
       "    </tr>\n",
       "    <tr>\n",
       "      <th>4</th>\n",
       "      <td>4</td>\n",
       "      <td>0</td>\n",
       "      <td>964</td>\n",
       "      <td>5234</td>\n",
       "      <td>18.4</td>\n",
       "    </tr>\n",
       "    <tr>\n",
       "      <th>6</th>\n",
       "      <td>6</td>\n",
       "      <td>0</td>\n",
       "      <td>356</td>\n",
       "      <td>1415</td>\n",
       "      <td>25.2</td>\n",
       "    </tr>\n",
       "    <tr>\n",
       "      <th>8</th>\n",
       "      <td>10</td>\n",
       "      <td>0</td>\n",
       "      <td>249</td>\n",
       "      <td>722</td>\n",
       "      <td>34.5</td>\n",
       "    </tr>\n",
       "    <tr>\n",
       "      <th>10</th>\n",
       "      <td>20</td>\n",
       "      <td>0</td>\n",
       "      <td>107</td>\n",
       "      <td>248</td>\n",
       "      <td>43.1</td>\n",
       "    </tr>\n",
       "    <tr>\n",
       "      <th>12</th>\n",
       "      <td>999999</td>\n",
       "      <td>0</td>\n",
       "      <td>12</td>\n",
       "      <td>24</td>\n",
       "      <td>50.0</td>\n",
       "    </tr>\n",
       "  </tbody>\n",
       "</table>\n",
       "</div>"
      ],
      "text/plain": [
       "    failed_attempts_range  is_successful_payment  order_id   TOTAL  share\n",
       "0                       0                      0     11303  192477    5.9\n",
       "2                       2                      0      4099   41990    9.8\n",
       "4                       4                      0       964    5234   18.4\n",
       "6                       6                      0       356    1415   25.2\n",
       "8                      10                      0       249     722   34.5\n",
       "10                     20                      0       107     248   43.1\n",
       "12                 999999                      0        12      24   50.0"
      ]
     },
     "execution_count": 33,
     "metadata": {},
     "output_type": "execute_result"
    }
   ],
   "source": [
    "gb3.sort_values('failed_attempts_range',ascending=True).head(7)"
   ]
  },
  {
   "cell_type": "markdown",
   "id": "3a715482",
   "metadata": {},
   "source": [
    "There is a non successful rate over 30% on TRXs that had 7 or more attempts. We can block these TRXs with a velocity rule that counts the total attempts."
   ]
  },
  {
   "cell_type": "markdown",
   "id": "d485fdf3",
   "metadata": {},
   "source": [
    "This rule will have a recall of 3.4% with a precision of 35.7%"
   ]
  },
  {
   "cell_type": "markdown",
   "id": "88a5ca79",
   "metadata": {},
   "source": [
    "## Filter TRXs with 7 or more attempts"
   ]
  },
  {
   "cell_type": "markdown",
   "id": "c1466517",
   "metadata": {},
   "source": [
    "From now on we take out of consideration TRXs with 7 or more attempts because dose TRXs will be blocked by the previous rule "
   ]
  },
  {
   "cell_type": "code",
   "execution_count": 34,
   "id": "7d590e0c",
   "metadata": {},
   "outputs": [],
   "source": [
    "df_2 = df_1[df_1['failed_attempts']<7]"
   ]
  },
  {
   "cell_type": "code",
   "execution_count": 35,
   "id": "babe0f34",
   "metadata": {},
   "outputs": [
    {
     "data": {
      "text/html": [
       "<div>\n",
       "<style scoped>\n",
       "    .dataframe tbody tr th:only-of-type {\n",
       "        vertical-align: middle;\n",
       "    }\n",
       "\n",
       "    .dataframe tbody tr th {\n",
       "        vertical-align: top;\n",
       "    }\n",
       "\n",
       "    .dataframe thead th {\n",
       "        text-align: right;\n",
       "    }\n",
       "</style>\n",
       "<table border=\"1\" class=\"dataframe\">\n",
       "  <thead>\n",
       "    <tr style=\"text-align: right;\">\n",
       "      <th></th>\n",
       "      <th>created</th>\n",
       "      <th>device_name</th>\n",
       "      <th>device_os_version</th>\n",
       "      <th>country</th>\n",
       "      <th>city_id</th>\n",
       "      <th>lat</th>\n",
       "      <th>lng</th>\n",
       "      <th>real_destination_lat</th>\n",
       "      <th>real_destination_lng</th>\n",
       "      <th>user_id</th>\n",
       "      <th>...</th>\n",
       "      <th>distance</th>\n",
       "      <th>ride_distance</th>\n",
       "      <th>price</th>\n",
       "      <th>ride_price</th>\n",
       "      <th>price_review_status</th>\n",
       "      <th>price_review_reason</th>\n",
       "      <th>is_successful_payment</th>\n",
       "      <th>name</th>\n",
       "      <th>card_bin</th>\n",
       "      <th>failed_attempts</th>\n",
       "    </tr>\n",
       "  </thead>\n",
       "  <tbody>\n",
       "    <tr>\n",
       "      <th>165637</th>\n",
       "      <td>2016-12-10 07:24:04</td>\n",
       "      <td>iPhone7</td>\n",
       "      <td>iOS10.3.2</td>\n",
       "      <td>za</td>\n",
       "      <td>54.0</td>\n",
       "      <td>-26.144673</td>\n",
       "      <td>28.043120</td>\n",
       "      <td>-26.194158</td>\n",
       "      <td>28.034876</td>\n",
       "      <td>946079</td>\n",
       "      <td>...</td>\n",
       "      <td>260</td>\n",
       "      <td>6879</td>\n",
       "      <td>70.0000</td>\n",
       "      <td>70.0000</td>\n",
       "      <td>ok</td>\n",
       "      <td>NaN</td>\n",
       "      <td>1</td>\n",
       "      <td>**** 9281</td>\n",
       "      <td>484162.0</td>\n",
       "      <td>0</td>\n",
       "    </tr>\n",
       "    <tr>\n",
       "      <th>151876</th>\n",
       "      <td>2017-07-17 10:53:31</td>\n",
       "      <td>samsungSM-J710F</td>\n",
       "      <td>samsung6.0.1</td>\n",
       "      <td>ee</td>\n",
       "      <td>1.0</td>\n",
       "      <td>59.432887</td>\n",
       "      <td>24.765726</td>\n",
       "      <td>59.424919</td>\n",
       "      <td>24.701021</td>\n",
       "      <td>2115084</td>\n",
       "      <td>...</td>\n",
       "      <td>2578</td>\n",
       "      <td>4792</td>\n",
       "      <td>3.7999</td>\n",
       "      <td>3.7999</td>\n",
       "      <td>ok</td>\n",
       "      <td>NaN</td>\n",
       "      <td>1</td>\n",
       "      <td>**** 3773</td>\n",
       "      <td>516737.0</td>\n",
       "      <td>0</td>\n",
       "    </tr>\n",
       "    <tr>\n",
       "      <th>288660</th>\n",
       "      <td>2017-01-26 06:51:54</td>\n",
       "      <td>unknownWAS-LX1</td>\n",
       "      <td>unknown7.0</td>\n",
       "      <td>za</td>\n",
       "      <td>54.0</td>\n",
       "      <td>-26.251556</td>\n",
       "      <td>28.046879</td>\n",
       "      <td>-26.244721</td>\n",
       "      <td>28.024533</td>\n",
       "      <td>799356</td>\n",
       "      <td>...</td>\n",
       "      <td>646</td>\n",
       "      <td>3099</td>\n",
       "      <td>35.0000</td>\n",
       "      <td>35.0000</td>\n",
       "      <td>ok</td>\n",
       "      <td>NaN</td>\n",
       "      <td>1</td>\n",
       "      <td>**** 7288</td>\n",
       "      <td>412752.0</td>\n",
       "      <td>0</td>\n",
       "    </tr>\n",
       "  </tbody>\n",
       "</table>\n",
       "<p>3 rows × 22 columns</p>\n",
       "</div>"
      ],
      "text/plain": [
       "                    created      device_name device_os_version country  \\\n",
       "165637  2016-12-10 07:24:04          iPhone7         iOS10.3.2      za   \n",
       "151876  2017-07-17 10:53:31  samsungSM-J710F      samsung6.0.1      ee   \n",
       "288660  2017-01-26 06:51:54   unknownWAS-LX1        unknown7.0      za   \n",
       "\n",
       "        city_id        lat        lng  real_destination_lat  \\\n",
       "165637     54.0 -26.144673  28.043120            -26.194158   \n",
       "151876      1.0  59.432887  24.765726             59.424919   \n",
       "288660     54.0 -26.251556  28.046879            -26.244721   \n",
       "\n",
       "        real_destination_lng  user_id  ...  distance  ride_distance    price  \\\n",
       "165637             28.034876   946079  ...       260           6879  70.0000   \n",
       "151876             24.701021  2115084  ...      2578           4792   3.7999   \n",
       "288660             28.024533   799356  ...       646           3099  35.0000   \n",
       "\n",
       "        ride_price  price_review_status  price_review_reason  \\\n",
       "165637     70.0000           ok                          NaN   \n",
       "151876      3.7999           ok                          NaN   \n",
       "288660     35.0000           ok                          NaN   \n",
       "\n",
       "       is_successful_payment       name  card_bin failed_attempts  \n",
       "165637                     1  **** 9281  484162.0               0  \n",
       "151876                     1  **** 3773  516737.0               0  \n",
       "288660                     1  **** 7288  412752.0               0  \n",
       "\n",
       "[3 rows x 22 columns]"
      ]
     },
     "execution_count": 35,
     "metadata": {},
     "output_type": "execute_result"
    }
   ],
   "source": [
    "df_2.sample(3)"
   ]
  },
  {
   "cell_type": "markdown",
   "id": "a11b1926",
   "metadata": {},
   "source": [
    "## BIN Analys"
   ]
  },
  {
   "cell_type": "code",
   "execution_count": 36,
   "id": "ac697f6e",
   "metadata": {},
   "outputs": [],
   "source": [
    "df_bin = df_2[['order_id','card_bin','is_successful_payment']]"
   ]
  },
  {
   "cell_type": "code",
   "execution_count": 37,
   "id": "b56e474f",
   "metadata": {},
   "outputs": [
    {
     "data": {
      "text/html": [
       "<div>\n",
       "<style scoped>\n",
       "    .dataframe tbody tr th:only-of-type {\n",
       "        vertical-align: middle;\n",
       "    }\n",
       "\n",
       "    .dataframe tbody tr th {\n",
       "        vertical-align: top;\n",
       "    }\n",
       "\n",
       "    .dataframe thead th {\n",
       "        text-align: right;\n",
       "    }\n",
       "</style>\n",
       "<table border=\"1\" class=\"dataframe\">\n",
       "  <thead>\n",
       "    <tr style=\"text-align: right;\">\n",
       "      <th></th>\n",
       "      <th>order_id</th>\n",
       "      <th>card_bin</th>\n",
       "      <th>is_successful_payment</th>\n",
       "    </tr>\n",
       "  </thead>\n",
       "  <tbody>\n",
       "    <tr>\n",
       "      <th>48195</th>\n",
       "      <td>6669601</td>\n",
       "      <td>479695.0</td>\n",
       "      <td>1</td>\n",
       "    </tr>\n",
       "    <tr>\n",
       "      <th>292395</th>\n",
       "      <td>25356268</td>\n",
       "      <td>492305.0</td>\n",
       "      <td>1</td>\n",
       "    </tr>\n",
       "    <tr>\n",
       "      <th>180034</th>\n",
       "      <td>22909542</td>\n",
       "      <td>522126.0</td>\n",
       "      <td>1</td>\n",
       "    </tr>\n",
       "  </tbody>\n",
       "</table>\n",
       "</div>"
      ],
      "text/plain": [
       "        order_id  card_bin  is_successful_payment\n",
       "48195    6669601  479695.0                      1\n",
       "292395  25356268  492305.0                      1\n",
       "180034  22909542  522126.0                      1"
      ]
     },
     "execution_count": 37,
     "metadata": {},
     "output_type": "execute_result"
    }
   ],
   "source": [
    "df_bin.sample(3)"
   ]
  },
  {
   "cell_type": "code",
   "execution_count": 38,
   "id": "1bbfd841",
   "metadata": {},
   "outputs": [
    {
     "name": "stderr",
     "output_type": "stream",
     "text": [
      "/home/ec2-user/anaconda3/envs/python3/lib/python3.6/site-packages/ipykernel/__main__.py:1: SettingWithCopyWarning: \n",
      "A value is trying to be set on a copy of a slice from a DataFrame.\n",
      "Try using .loc[row_indexer,col_indexer] = value instead\n",
      "\n",
      "See the caveats in the documentation: https://pandas.pydata.org/pandas-docs/stable/user_guide/indexing.html#returning-a-view-versus-a-copy\n",
      "  if __name__ == '__main__':\n"
     ]
    }
   ],
   "source": [
    "df_bin['card_bin'] = df_bin['card_bin'].fillna(0)"
   ]
  },
  {
   "cell_type": "code",
   "execution_count": 39,
   "id": "c76fe8ab",
   "metadata": {},
   "outputs": [],
   "source": [
    "gb1=df_bin.groupby(['card_bin','is_successful_payment']).count()\n",
    "gb1=gb1.reset_index()\n",
    "\n",
    "gb2=gb1[['card_bin','order_id']].groupby(['card_bin']).sum()\n",
    "gb2=gb2.reset_index()\n",
    "gb2['TOTAL']=gb2['order_id']\n",
    "gb2=gb2[['card_bin','TOTAL']]\n",
    "\n",
    "gb3 = pd.merge(left = gb1, right = gb2,\n",
    "                how = 'inner',\n",
    "                left_on='card_bin', right_on='card_bin')\n",
    "\n",
    "gb3['share']=(gb3['order_id']/gb3['TOTAL'])*100\n",
    "gb3['share']=gb3['share'].round(decimals=1)\n",
    "\n",
    "gb3 = gb3[gb3['is_successful_payment']==0]\n"
   ]
  },
  {
   "cell_type": "code",
   "execution_count": 40,
   "id": "223eb7aa",
   "metadata": {},
   "outputs": [
    {
     "data": {
      "text/html": [
       "<div>\n",
       "<style scoped>\n",
       "    .dataframe tbody tr th:only-of-type {\n",
       "        vertical-align: middle;\n",
       "    }\n",
       "\n",
       "    .dataframe tbody tr th {\n",
       "        vertical-align: top;\n",
       "    }\n",
       "\n",
       "    .dataframe thead th {\n",
       "        text-align: right;\n",
       "    }\n",
       "</style>\n",
       "<table border=\"1\" class=\"dataframe\">\n",
       "  <thead>\n",
       "    <tr style=\"text-align: right;\">\n",
       "      <th></th>\n",
       "      <th>card_bin</th>\n",
       "      <th>is_successful_payment</th>\n",
       "      <th>order_id</th>\n",
       "      <th>TOTAL</th>\n",
       "      <th>share</th>\n",
       "    </tr>\n",
       "  </thead>\n",
       "  <tbody>\n",
       "    <tr>\n",
       "      <th>6880</th>\n",
       "      <td>528497.0</td>\n",
       "      <td>0</td>\n",
       "      <td>2143</td>\n",
       "      <td>7734</td>\n",
       "      <td>27.7</td>\n",
       "    </tr>\n",
       "    <tr>\n",
       "      <th>4988</th>\n",
       "      <td>484162.0</td>\n",
       "      <td>0</td>\n",
       "      <td>505</td>\n",
       "      <td>6455</td>\n",
       "      <td>7.8</td>\n",
       "    </tr>\n",
       "    <tr>\n",
       "      <th>0</th>\n",
       "      <td>0.0</td>\n",
       "      <td>0</td>\n",
       "      <td>403</td>\n",
       "      <td>3756</td>\n",
       "      <td>10.7</td>\n",
       "    </tr>\n",
       "    <tr>\n",
       "      <th>6030</th>\n",
       "      <td>516875.0</td>\n",
       "      <td>0</td>\n",
       "      <td>375</td>\n",
       "      <td>934</td>\n",
       "      <td>40.1</td>\n",
       "    </tr>\n",
       "    <tr>\n",
       "      <th>5253</th>\n",
       "      <td>491566.0</td>\n",
       "      <td>0</td>\n",
       "      <td>369</td>\n",
       "      <td>502</td>\n",
       "      <td>73.5</td>\n",
       "    </tr>\n",
       "    <tr>\n",
       "      <th>1620</th>\n",
       "      <td>412752.0</td>\n",
       "      <td>0</td>\n",
       "      <td>321</td>\n",
       "      <td>7671</td>\n",
       "      <td>4.2</td>\n",
       "    </tr>\n",
       "    <tr>\n",
       "      <th>4329</th>\n",
       "      <td>466544.0</td>\n",
       "      <td>0</td>\n",
       "      <td>266</td>\n",
       "      <td>312</td>\n",
       "      <td>85.3</td>\n",
       "    </tr>\n",
       "    <tr>\n",
       "      <th>8886</th>\n",
       "      <td>557368.0</td>\n",
       "      <td>0</td>\n",
       "      <td>223</td>\n",
       "      <td>6762</td>\n",
       "      <td>3.3</td>\n",
       "    </tr>\n",
       "    <tr>\n",
       "      <th>1618</th>\n",
       "      <td>412722.0</td>\n",
       "      <td>0</td>\n",
       "      <td>218</td>\n",
       "      <td>1056</td>\n",
       "      <td>20.6</td>\n",
       "    </tr>\n",
       "    <tr>\n",
       "      <th>5638</th>\n",
       "      <td>510621.0</td>\n",
       "      <td>0</td>\n",
       "      <td>207</td>\n",
       "      <td>236</td>\n",
       "      <td>87.7</td>\n",
       "    </tr>\n",
       "    <tr>\n",
       "      <th>8884</th>\n",
       "      <td>557367.0</td>\n",
       "      <td>0</td>\n",
       "      <td>197</td>\n",
       "      <td>11177</td>\n",
       "      <td>1.8</td>\n",
       "    </tr>\n",
       "    <tr>\n",
       "      <th>6190</th>\n",
       "      <td>518759.0</td>\n",
       "      <td>0</td>\n",
       "      <td>182</td>\n",
       "      <td>182</td>\n",
       "      <td>100.0</td>\n",
       "    </tr>\n",
       "    <tr>\n",
       "      <th>1772</th>\n",
       "      <td>415231.0</td>\n",
       "      <td>0</td>\n",
       "      <td>174</td>\n",
       "      <td>694</td>\n",
       "      <td>25.1</td>\n",
       "    </tr>\n",
       "    <tr>\n",
       "      <th>5953</th>\n",
       "      <td>516737.0</td>\n",
       "      <td>0</td>\n",
       "      <td>162</td>\n",
       "      <td>12094</td>\n",
       "      <td>1.3</td>\n",
       "    </tr>\n",
       "    <tr>\n",
       "      <th>1750</th>\n",
       "      <td>414949.0</td>\n",
       "      <td>0</td>\n",
       "      <td>156</td>\n",
       "      <td>408</td>\n",
       "      <td>38.2</td>\n",
       "    </tr>\n",
       "    <tr>\n",
       "      <th>6469</th>\n",
       "      <td>522772.0</td>\n",
       "      <td>0</td>\n",
       "      <td>156</td>\n",
       "      <td>156</td>\n",
       "      <td>100.0</td>\n",
       "    </tr>\n",
       "    <tr>\n",
       "      <th>6028</th>\n",
       "      <td>516874.0</td>\n",
       "      <td>0</td>\n",
       "      <td>149</td>\n",
       "      <td>460</td>\n",
       "      <td>32.4</td>\n",
       "    </tr>\n",
       "    <tr>\n",
       "      <th>4809</th>\n",
       "      <td>479012.0</td>\n",
       "      <td>0</td>\n",
       "      <td>145</td>\n",
       "      <td>3929</td>\n",
       "      <td>3.7</td>\n",
       "    </tr>\n",
       "    <tr>\n",
       "      <th>6024</th>\n",
       "      <td>516867.0</td>\n",
       "      <td>0</td>\n",
       "      <td>130</td>\n",
       "      <td>6353</td>\n",
       "      <td>2.0</td>\n",
       "    </tr>\n",
       "    <tr>\n",
       "      <th>6943</th>\n",
       "      <td>529254.0</td>\n",
       "      <td>0</td>\n",
       "      <td>120</td>\n",
       "      <td>419</td>\n",
       "      <td>28.6</td>\n",
       "    </tr>\n",
       "    <tr>\n",
       "      <th>2324</th>\n",
       "      <td>425603.0</td>\n",
       "      <td>0</td>\n",
       "      <td>118</td>\n",
       "      <td>3347</td>\n",
       "      <td>3.5</td>\n",
       "    </tr>\n",
       "    <tr>\n",
       "      <th>5979</th>\n",
       "      <td>516793.0</td>\n",
       "      <td>0</td>\n",
       "      <td>113</td>\n",
       "      <td>4073</td>\n",
       "      <td>2.8</td>\n",
       "    </tr>\n",
       "    <tr>\n",
       "      <th>8502</th>\n",
       "      <td>551238.0</td>\n",
       "      <td>0</td>\n",
       "      <td>111</td>\n",
       "      <td>176</td>\n",
       "      <td>63.1</td>\n",
       "    </tr>\n",
       "    <tr>\n",
       "      <th>5027</th>\n",
       "      <td>485442.0</td>\n",
       "      <td>0</td>\n",
       "      <td>111</td>\n",
       "      <td>1850</td>\n",
       "      <td>6.0</td>\n",
       "    </tr>\n",
       "    <tr>\n",
       "      <th>8366</th>\n",
       "      <td>548822.0</td>\n",
       "      <td>0</td>\n",
       "      <td>109</td>\n",
       "      <td>109</td>\n",
       "      <td>100.0</td>\n",
       "    </tr>\n",
       "  </tbody>\n",
       "</table>\n",
       "</div>"
      ],
      "text/plain": [
       "      card_bin  is_successful_payment  order_id  TOTAL  share\n",
       "6880  528497.0                      0      2143   7734   27.7\n",
       "4988  484162.0                      0       505   6455    7.8\n",
       "0          0.0                      0       403   3756   10.7\n",
       "6030  516875.0                      0       375    934   40.1\n",
       "5253  491566.0                      0       369    502   73.5\n",
       "1620  412752.0                      0       321   7671    4.2\n",
       "4329  466544.0                      0       266    312   85.3\n",
       "8886  557368.0                      0       223   6762    3.3\n",
       "1618  412722.0                      0       218   1056   20.6\n",
       "5638  510621.0                      0       207    236   87.7\n",
       "8884  557367.0                      0       197  11177    1.8\n",
       "6190  518759.0                      0       182    182  100.0\n",
       "1772  415231.0                      0       174    694   25.1\n",
       "5953  516737.0                      0       162  12094    1.3\n",
       "1750  414949.0                      0       156    408   38.2\n",
       "6469  522772.0                      0       156    156  100.0\n",
       "6028  516874.0                      0       149    460   32.4\n",
       "4809  479012.0                      0       145   3929    3.7\n",
       "6024  516867.0                      0       130   6353    2.0\n",
       "6943  529254.0                      0       120    419   28.6\n",
       "2324  425603.0                      0       118   3347    3.5\n",
       "5979  516793.0                      0       113   4073    2.8\n",
       "8502  551238.0                      0       111    176   63.1\n",
       "5027  485442.0                      0       111   1850    6.0\n",
       "8366  548822.0                      0       109    109  100.0"
      ]
     },
     "execution_count": 40,
     "metadata": {},
     "output_type": "execute_result"
    }
   ],
   "source": [
    "gb3.sort_values('order_id',ascending=False).head(25)"
   ]
  },
  {
   "cell_type": "markdown",
   "id": "67c8a46a",
   "metadata": {},
   "source": [
    "We can blacklist BINs that seams to be dirty BINs and have a considerate amount of non succesful TRXs"
   ]
  },
  {
   "cell_type": "markdown",
   "id": "3058cd84",
   "metadata": {},
   "source": [
    "BINs to blacklist: [491566.0, 466544.0, 510621.0, 518759.0, 522772.0, 551238.0, 548822.0]"
   ]
  },
  {
   "cell_type": "markdown",
   "id": "71886332",
   "metadata": {},
   "source": [
    " This will have a recall of 8.4% with a precision of 83.7%"
   ]
  },
  {
   "cell_type": "markdown",
   "id": "68e5040d",
   "metadata": {},
   "source": [
    "## Conclutions"
   ]
  },
  {
   "cell_type": "markdown",
   "id": "25de472c",
   "metadata": {},
   "source": [
    "1- We can set a rule of price where all TRXs that are with price = 0 will be blocked.\n",
    "This rule will have a recall of 78.4% with a precision of 100% and causing non friction at all"
   ]
  },
  {
   "cell_type": "markdown",
   "id": "a5ff2537",
   "metadata": {},
   "source": [
    "2- Implementing a velocity count rule where we count the number of attempts in a TRX, with 7 or more attempts, the TRX will be blocked. This rule will have a recall of 3.4% with a precision of 35.7%"
   ]
  },
  {
   "cell_type": "markdown",
   "id": "4c68c0c7",
   "metadata": {},
   "source": [
    "3- Also, we can send to blacklist a given number of BINs. If we blacklist this list of 7 BINs we would have a recall of 8.4% on non successful TRXs with a precision of 83.7%"
   ]
  },
  {
   "cell_type": "markdown",
   "id": "a9f98766",
   "metadata": {},
   "source": [
    "With all these implementations we are going to reduce the non succesful TRXs from 79033 to 15322. That is a reduction of an 80.6% on these TRX"
   ]
  },
  {
   "cell_type": "code",
   "execution_count": null,
   "id": "aa090579",
   "metadata": {},
   "outputs": [],
   "source": []
  }
 ],
 "metadata": {
  "kernelspec": {
   "display_name": "conda_python3",
   "language": "python",
   "name": "conda_python3"
  },
  "language_info": {
   "codemirror_mode": {
    "name": "ipython",
    "version": 3
   },
   "file_extension": ".py",
   "mimetype": "text/x-python",
   "name": "python",
   "nbconvert_exporter": "python",
   "pygments_lexer": "ipython3",
   "version": "3.6.13"
  }
 },
 "nbformat": 4,
 "nbformat_minor": 5
}
